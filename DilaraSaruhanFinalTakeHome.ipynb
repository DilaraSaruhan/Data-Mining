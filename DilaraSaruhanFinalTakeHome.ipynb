{
  "nbformat": 4,
  "nbformat_minor": 0,
  "metadata": {
    "colab": {
      "provenance": [],
      "authorship_tag": "ABX9TyP4ZC3hH30dV1DAGJiJOtqp",
      "include_colab_link": true
    },
    "kernelspec": {
      "name": "python3",
      "display_name": "Python 3"
    },
    "language_info": {
      "name": "python"
    }
  },
  "cells": [
    {
      "cell_type": "markdown",
      "metadata": {
        "id": "view-in-github",
        "colab_type": "text"
      },
      "source": [
        "<a href=\"https://colab.research.google.com/github/DilaraSaruhan/Data-Mining/blob/main/DilaraSaruhanFinalTakeHome.ipynb\" target=\"_parent\"><img src=\"https://colab.research.google.com/assets/colab-badge.svg\" alt=\"Open In Colab\"/></a>"
      ]
    },
    {
      "cell_type": "markdown",
      "source": [
        " **Veri Madenciliği ve Uygulamaları Dersi - BIL542**\n",
        "\n",
        "---\n",
        "\n",
        "\n",
        "**Dilara Saruhan** ⭐\n",
        "\n",
        "\n",
        "\n",
        "\n"
      ],
      "metadata": {
        "id": "lRw8mfiQ1gk2"
      }
    },
    {
      "cell_type": "markdown",
      "source": [
        "**Destek (Support):** Belirli bir öğe veya öğe setinin tüm işlemler arasında ne sıklıkta göründüğünün yüzdesel bir ifadesidir ve bu hesaplama yalnızca işlem içeriklerine (satın alınan öğeler) dayanır.\n",
        "\n",
        "**Güven (Confidence):** Bir kuralın (örneğin, eğer X alınırsa Y de alınır) ne kadar güvenilir olduğunu belirler ve yine sadece işlem içeriklerine dayanır.\n",
        "\n",
        "**Lift:** İki öğenin birlikte görülme olasılığının, eğer bu iki öğe bağımsız olsalardı beklenen ortak görülme olasılığına oranını ifade eder ve yine sadece işlem içeriklerine dayanır.\n",
        "\n",
        "**a) Kural ({10} → {50,70}):**\n",
        "\n",
        "**Destek: %20**\n",
        "\n",
        "1)10, 50 ve 70. maddeleri içeren işlemlerin sayısını sayın.\n",
        "\n",
        "2)Bu öğeleri içeren 2 işlem vardır.\n",
        "\n",
        "3)Toplamda 10 işlem olduğu için destek 2/10 =0,2.\n",
        "\n",
        "**Güven: %28.57**\n",
        "\n",
        "1)10. maddeyi içeren işlemlerin sayısını sayın.\n",
        "\n",
        "2)10. maddeyi içeren 7 işlem var.\n",
        "\n",
        "3) Güven 2/7'den yaklaşık 0,285772\n",
        "\n",
        "**Lift: 1.43**\n",
        "\n",
        "1)Toplam işlem sayısı 10'dur.\n",
        "\n",
        "2)10 numaralı ürün 7 işlemde yer almaktadır, dolayısıyla Support(A)=7/10\n",
        "\n",
        "3)50 ve 70 numaralı ürünler birlikte 2 işlemde yer almaktadır\n",
        "dolayısıyla Support(B)=2/10\n",
        "\n",
        "4)10 numaralı ürün ile 50 ve 70 numaralı ürünler birlikte 2 işlemde yer almaktadır, Support(A∩B)=2/10\n",
        "\n",
        "5)Lift= Support(A∩B)/Support(A)x Support(B)= (2/10)/(7/10)x(2/10)=1.43\n",
        "\n",
        "\n",
        "\n",
        "**b)Kural ({10,20} → {30}):**\n",
        "\n",
        "**Destek: %30**\n",
        "\n",
        "**Güven: %75**\n",
        "\n",
        "**Lift: 1.25**\n",
        "\n",
        "**c)Kural ({20,30} → {40}):**\n",
        "\n",
        "**Destek: %10**\n",
        "\n",
        "**Güven: %25**\n",
        "\n",
        "**Lift: 0.83**"
      ],
      "metadata": {
        "id": "LJCYUp80ChsJ"
      }
    },
    {
      "cell_type": "code",
      "execution_count": 3,
      "metadata": {
        "colab": {
          "base_uri": "https://localhost:8080/"
        },
        "id": "NRkFmJmh8VOe",
        "outputId": "c4c370f5-1526-4c15-e566-6d9e5c661144"
      },
      "outputs": [
        {
          "output_type": "execute_result",
          "data": {
            "text/plain": [
              "{(frozenset({10}), frozenset({50, 70})): (0.2,\n",
              "  0.2857142857142857,\n",
              "  1.4285714285714288),\n",
              " (frozenset({10, 20}), frozenset({30})): (0.3, 0.75, 1.25),\n",
              " (frozenset({20, 30}), frozenset({40})): (0.1, 0.25, 0.8333333333333334)}"
            ]
          },
          "metadata": {},
          "execution_count": 3
        }
      ],
      "source": [
        "# pandas kütüphanesini pd takma adı ile içe aktarıyoruz.\n",
        "import pandas as pd\n",
        "\n",
        "# Veri setimizdeki işlem kimliklerini (TID) ve her işlemde satın alınan ürünleri (Items) içeren bir sözlük oluşturuyoruz.\n",
        "# Ürünler küme olarak saklanır, bu sayede her bir ürün bir işlem içerisinde sadece bir kez sayılır.\n",
        "data = {\n",
        "    'TID': [1, 2, 3, 4, 5, 6, 7, 8, 9, 10],\n",
        "    'Items': [\n",
        "        {10, 20},\n",
        "        {10, 30, 50, 70},\n",
        "        {10, 20, 30, 40},\n",
        "        {20, 30},\n",
        "        {20, 40, 70},\n",
        "        {10, 30, 60, 70},\n",
        "        {10, 50, 70},\n",
        "        {10, 20, 30},\n",
        "        {20, 40, 60},\n",
        "        {10, 20, 30, 60}\n",
        "    ]\n",
        "}\n",
        "\n",
        "# Sözlüğümüzü kullanarak bir pandas DataFrame oluşturuyoruz.\n",
        "df = pd.DataFrame(data)\n",
        "\n",
        "# Belirli bir öğe setinin tüm işlemler arasındaki destek değerini hesaplayan bir fonksiyon tanımlıyoruz.\n",
        "def calculate_support(df, itemset):\n",
        "    total_transactions = len(df)  # Toplam işlem sayısını buluyoruz.\n",
        "    transactions_with_items = sum(df['Items'].apply(lambda x: itemset.issubset(x)))  # İlgili öğeleri içeren işlem sayısını buluyoruz.\n",
        "    support = transactions_with_items / total_transactions  # Destek değerini hesaplıyoruz.\n",
        "    return support\n",
        "\n",
        "# Bir öğe setinin başka bir öğe setiyle birlikte ne kadar sık alındığını gösteren güven değerini hesaplayan bir fonksiyon tanımlıyoruz.\n",
        "def calculate_confidence(df, antecedent, consequent):\n",
        "    antecedent_transactions = sum(df['Items'].apply(lambda x: antecedent.issubset(x)))  # Koşul olarak verilen öğeleri içeren işlem sayısını buluyoruz.\n",
        "    both_transactions = sum(df['Items'].apply(lambda x: antecedent.issubset(x) and consequent.issubset(x)))  # Hem koşul hem de sonuç öğelerini içeren işlem sayısını buluyoruz.\n",
        "    confidence = both_transactions / antecedent_transactions if antecedent_transactions else 0  # Güven değerini hesaplıyoruz.\n",
        "    return confidence\n",
        "\n",
        "# İki öğe setinin birlikte alınma olasılığını, bağımsız alınma olasılıklarına oranla gösteren lift değerini hesaplayan bir fonksiyon tanımlıyoruz.\n",
        "def calculate_lift(df, antecedent, consequent):\n",
        "    support_antecedent = calculate_support(df, antecedent)  # Koşul öğelerinin destek değerini hesaplıyoruz.\n",
        "    support_consequent = calculate_support(df, consequent)  # Sonuç öğelerinin destek değerini hesaplıyoruz.\n",
        "    support_both = calculate_support(df, antecedent.union(consequent))  # Hem koşul hem de sonuç öğelerinin birlikte destek değerini hesaplıyoruz.\n",
        "    lift = support_both / (support_antecedent * support_consequent) if support_antecedent * support_consequent else 0  # Lift değerini hesaplıyoruz.\n",
        "    return lift\n",
        "\n",
        "# Hesaplamalarımızı saklayacağımız bir sözlük oluşturuyoruz.\n",
        "calculations = {}\n",
        "\n",
        "# Her bir kural için destek, güven ve lift değerlerini hesaplıyoruz ve bunları calculations sözlüğünde saklıyoruz.\n",
        "rules = [\n",
        "    ({10}, {50, 70}),\n",
        "    ({10, 20}, {30}),\n",
        "    ({20, 30}, {40})\n",
        "]\n",
        "\n",
        "for antecedent, consequent in rules:\n",
        "    support = calculate_support(df, antecedent.union(consequent))  # Destek değerini hesaplıyoruz.\n",
        "    confidence = calculate_confidence(df, antecedent, consequent)  # Güven değerini hesaplıyoruz.\n",
        "    lift = calculate_lift(df, antecedent, consequent)  # Lift değerini hesaplıyoruz.\n",
        "    calculations[(frozenset(antecedent), frozenset(consequent))] = (support, confidence, lift)  # Hesaplanan değerleri saklıyoruz.\n",
        "\n",
        "# Hesaplanan değerleri döndürüyoruz.\n",
        "calculations\n"
      ]
    }
  ]
}