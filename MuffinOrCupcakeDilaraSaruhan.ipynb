{
  "nbformat": 4,
  "nbformat_minor": 0,
  "metadata": {
    "colab": {
      "provenance": [],
      "include_colab_link": true
    },
    "kernelspec": {
      "name": "python3",
      "display_name": "Python 3"
    },
    "language_info": {
      "name": "python"
    }
  },
  "cells": [
    {
      "cell_type": "markdown",
      "metadata": {
        "id": "view-in-github",
        "colab_type": "text"
      },
      "source": [
        "<a href=\"https://colab.research.google.com/github/DilaraSaruhan/Data-Mining/blob/main/MuffinOrCupcakeDilaraSaruhan.ipynb\" target=\"_parent\"><img src=\"https://colab.research.google.com/assets/colab-badge.svg\" alt=\"Open In Colab\"/></a>"
      ]
    },
    {
      "cell_type": "markdown",
      "source": [
        " **Veri Madenciliği Uygulamaları Dersi - BIL542**\n",
        "\n",
        "---\n",
        "\n",
        "\n",
        "**Dilara Saruhan** ⭐\n",
        "\n",
        "---\n",
        "\n",
        "\n",
        "\n",
        "\n"
      ],
      "metadata": {
        "id": "lRw8mfiQ1gk2"
      }
    },
    {
      "cell_type": "markdown",
      "source": [
        "**Problem**\n",
        "\n",
        "Muffin ve Cupcake tarifleri için;\n",
        "\n",
        "Bunları derleyip bir veri kümesi oluşturunuz. (en az 5 er muffin, ve cubcake)\n",
        "\n",
        "\n",
        "Veri Kümesindeki Bilgileri için ÖNİŞLEME yapınız\n",
        "(Temizleyiniz)\n",
        "\n",
        "\n",
        "Veri Kümesindeki alanları hakkında istatistiksel bilgiler toplayınız Ort, Std Sapma, Min, Max.\n",
        "\n",
        "\n",
        "Uygun araçlar bularak BoxPlot Çıkarınız (Knime, phyton, R vs olabilir.)\n",
        "\n",
        "\n",
        "K-NN metotu  (k=1) kullanarak Sınıflandırmamızın ne kadar başarılı olacağını (kağıt kalem, EXCEL, ARAÇ, phyton, R , Knime, Weka vb kullanılabilir)\n",
        "\n",
        "\n",
        "Confusion MATRİX çıkarınız. Accuracy, Precision, Sensitivity Selectivity çıkarnız.\n",
        "\n",
        "\n",
        "Confusion Matrix çıkarabilmek için Her seferinde bir girdiyi TEST olarak gerçekleştiriniz.\n",
        "\n",
        "\n",
        "---\n",
        "\n"
      ],
      "metadata": {
        "id": "9EYdDrVX-Pd9"
      }
    },
    {
      "cell_type": "code",
      "source": [
        "import pandas as pd\n",
        "from sklearn.model_selection import train_test_split\n",
        "from sklearn.neighbors import KNeighborsClassifier\n",
        "from sklearn import metrics\n",
        "import seaborn as sns\n",
        "import matplotlib.pyplot as plt\n",
        "\n",
        "# Muffin ve Cupcake tariflerini içeren bir veri kümesi oluşturdum\n",
        "data = {\n",
        "    'Type': ['Muffin', 'Muffin', 'Cupcake', 'Cupcake', 'Muffin', 'Cupcake', 'Muffin', 'Cupcake', 'Cupcake', 'Muffin'],\n",
        "    'Flour': [45, 47, 50, 39, 52, 46, 51, 43, 44, 53],\n",
        "    'Sugar': [10, 12, 8, 15, 11, 14, 9, 16, 13, 10],\n",
        "    'Milk': [20, 22, 18, 25, 21, 24, 16, 26, 23, 19],\n",
        "    'Butter': [10, 5, 8, 9, 11, 14, 9, 12, 13, 10],\n",
        "    'Egg': [5, 7, 5, 3, 5, 6, 5, 4, 4, 5],\n",
        "    'BakingPowder': [2, 2, 1, 2, 2, 1, 1, 2, 2, 1],\n",
        "    'Vanilla': [2, 2, 1, 2, 2, 1, 1, 2, 2, 1],\n",
        "}\n",
        "\n",
        "df = pd.DataFrame(data)\n",
        "\n",
        "# Veri kümesindeki alanları hakkında istatistiksel bilgileri topladım\n",
        "statistics = df.describe()\n",
        "print(\"Statistics:\")\n",
        "print(statistics)\n",
        "\n",
        "# Veri kümesini temizledim\n",
        "df = df.dropna()\n",
        "\n",
        "# BoxPlot çıkardım (tüm özellikleri kullandım)\n",
        "plt.figure(figsize=(10, 6))\n",
        "sns.boxplot(data=df.drop('Type', axis=1))\n",
        "plt.title('Box Plot for Muffin and Cupcake Ingredients')\n",
        "plt.show()\n",
        "\n",
        "# Veri setini özellikler ve etiketler olarak ayırdım\n",
        "X = df.drop('Type', axis=1)\n",
        "y = df['Type']\n",
        "\n",
        "# Veri setini eğitim ve test setlerine ayırdım\n",
        "X_train, X_test, y_train, y_test = train_test_split(X, y, test_size=0.2, random_state=42)\n",
        "\n",
        "# K-NN (k=1) sınıflandırıcıyı kullanarak modeli eğittim\n",
        "knn = KNeighborsClassifier(n_neighbors=1)\n",
        "knn.fit(X_train, y_train)\n",
        "\n",
        "# Test seti üzerinde tahmin yaptım\n",
        "y_pred = knn.predict(X_test)\n",
        "\n",
        "# Confusion Matrix'i oluşturdum\n",
        "conf_matrix = metrics.confusion_matrix(y_test, y_pred)\n",
        "\n",
        "# Accuracy, Precision, Sensitivity, Specificity ve Selectivity'yi hesapladım\n",
        "accuracy = metrics.accuracy_score(y_test, y_pred)\n",
        "precision_muffin = metrics.precision_score(y_test, y_pred, pos_label='Muffin')\n",
        "precision_cupcake = metrics.precision_score(y_test, y_pred, pos_label='Cupcake')\n",
        "sensitivity_muffin = metrics.recall_score(y_test, y_pred, pos_label='Muffin')\n",
        "sensitivity_cupcake = metrics.recall_score(y_test, y_pred, pos_label='Cupcake')\n",
        "specificity = conf_matrix[0, 0] / (conf_matrix[0, 0] + conf_matrix[0, 1])  # TN / (TN + FP)\n",
        "selectivity = conf_matrix[1, 1] / (conf_matrix[1, 0] + conf_matrix[1, 1])  # TN / (FP + TN)\n",
        "\n",
        "# Sonuçları yazdırdım\n",
        "print(\"\\nConfusion Matrix:\")\n",
        "print(conf_matrix)\n",
        "print(\"\\nAccuracy:\", accuracy)\n",
        "print(\"Precision for Muffin:\", precision_muffin)\n",
        "print(\"Precision for Cupcake:\", precision_cupcake)\n",
        "print(\"Sensitivity (Recall) for Muffin:\", sensitivity_muffin)\n",
        "print(\"Sensitivity (Recall) for Cupcake:\", sensitivity_cupcake)\n",
        "print(\"Specificity:\", specificity)\n",
        "print(\"Selectivity:\", selectivity)\n"
      ],
      "metadata": {
        "id": "7zJdRl9LNEBe",
        "outputId": "324c75e3-1fcb-4049-a823-34b78ea80c9d",
        "colab": {
          "base_uri": "https://localhost:8080/",
          "height": 1000
        }
      },
      "execution_count": 112,
      "outputs": [
        {
          "output_type": "stream",
          "name": "stdout",
          "text": [
            "Statistics:\n",
            "           Flour     Sugar       Milk     Butter        Egg  BakingPowder  \\\n",
            "count  10.000000  10.00000  10.000000  10.000000  10.000000     10.000000   \n",
            "mean   47.000000  11.80000  21.400000  10.100000   4.900000      1.600000   \n",
            "std     4.472136   2.65832   3.204164   2.601282   1.100505      0.516398   \n",
            "min    39.000000   8.00000  16.000000   5.000000   3.000000      1.000000   \n",
            "25%    44.250000  10.00000  19.250000   9.000000   4.250000      1.000000   \n",
            "50%    46.500000  11.50000  21.500000  10.000000   5.000000      2.000000   \n",
            "75%    50.750000  13.75000  23.750000  11.750000   5.000000      2.000000   \n",
            "max    53.000000  16.00000  26.000000  14.000000   7.000000      2.000000   \n",
            "\n",
            "         Vanilla  \n",
            "count  10.000000  \n",
            "mean    1.600000  \n",
            "std     0.516398  \n",
            "min     1.000000  \n",
            "25%     1.000000  \n",
            "50%     2.000000  \n",
            "75%     2.000000  \n",
            "max     2.000000  \n"
          ]
        },
        {
          "output_type": "display_data",
          "data": {
            "text/plain": [
              "<Figure size 1000x600 with 1 Axes>"
            ],
            "image/png": "[encoded data removed]"
          },
          "metadata": {}
        },
        {
          "output_type": "stream",
          "name": "stdout",
          "text": [
            "\n",
            "Confusion Matrix:\n",
            "[[1 0]\n",
            " [0 1]]\n",
            "\n",
            "Accuracy: 1.0\n",
            "Precision for Muffin: 1.0\n",
            "Precision for Cupcake: 1.0\n",
            "Sensitivity (Recall) for Muffin: 1.0\n",
            "Sensitivity (Recall) for Cupcake: 1.0\n",
            "Specificity: 1.0\n",
            "Selectivity: 1.0\n"
          ]
        }
      ]
    }
  ]
}