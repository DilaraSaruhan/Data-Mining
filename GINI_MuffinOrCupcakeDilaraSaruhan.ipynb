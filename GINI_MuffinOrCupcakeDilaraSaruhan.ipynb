{
  "nbformat": 4,
  "nbformat_minor": 0,
  "metadata": {
    "colab": {
      "provenance": [],
      "include_colab_link": true
    },
    "kernelspec": {
      "name": "python3",
      "display_name": "Python 3"
    },
    "language_info": {
      "name": "python"
    }
  },
  "cells": [
    {
      "cell_type": "markdown",
      "metadata": {
        "id": "view-in-github",
        "colab_type": "text"
      },
      "source": [
        "<a href=\"https://colab.research.google.com/github/DilaraSaruhan/Data-Mining/blob/main/GINI_MuffinOrCupcakeDilaraSaruhan.ipynb\" target=\"_parent\"><img src=\"https://colab.research.google.com/assets/colab-badge.svg\" alt=\"Open In Colab\"/></a>"
      ]
    },
    {
      "cell_type": "markdown",
      "source": [
        " **Veri Madenciliği Uygulamaları Dersi - BIL542**\n",
        "\n",
        "---\n",
        "\n",
        "\n",
        "**Dilara Saruhan** ⭐\n",
        "\n",
        "---\n",
        "\n",
        "\n",
        "\n",
        "\n"
      ],
      "metadata": {
        "id": "lRw8mfiQ1gk2"
      }
    },
    {
      "cell_type": "markdown",
      "source": [
        "**Problem**\n",
        "\n",
        "Muffin ve Cupcake için topladığınız data üzerinde çalışacak istediğiniz bir programlama dili ile gerçekleştirebileceğiniz GİNİ KARAR AĞACI uygulaması yapınız.\n",
        "\n",
        "Datalarınızı ön işleme ile kategorik hale getirebilirsiniz.\n",
        "\n",
        "Karmaşıklık matrisi ile Doğru Bilme, F1 score, duyarlılık, hassasiyet, bilgilerini de hesaplayınız.\n",
        "\n",
        "\n",
        "---\n",
        "\n"
      ],
      "metadata": {
        "id": "9EYdDrVX-Pd9"
      }
    },
    {
      "cell_type": "code",
      "source": [
        "import pandas as pd\n",
        "from sklearn.model_selection import train_test_split\n",
        "from sklearn.tree import DecisionTreeClassifier\n",
        "from sklearn.preprocessing import LabelEncoder\n",
        "from sklearn.metrics import confusion_matrix, classification_report, accuracy_score, f1_score, recall_score, precision_score\n",
        "\n",
        "# Muffin ve Cupcake tariflerini içeren bir veri kümesi oluşturdum\n",
        "data = {\n",
        "    'Type': ['Muffin', 'Muffin', 'Cupcake', 'Cupcake', 'Muffin', 'Cupcake', 'Muffin', 'Cupcake', 'Cupcake', 'Muffin'],\n",
        "    'Flour': [42, 47, 50, 39, 52, 46, 51, 43, 44, 53],\n",
        "    'Sugar': [10, 12, 8, 15, 11, 14, 9, 16, 13, 10],\n",
        "    'Milk': [20, 22, 18, 25, 21, 24, 16, 26, 23, 19],\n",
        "    'Butter': [10, 5, 8, 9, 11, 14, 9, 12, 13, 10],\n",
        "    'Egg': [5, 7, 5, 3, 5, 6, 5, 4, 4, 5],\n",
        "    'BakingPowder': [2, 2, 1, 2, 2, 1, 1, 2, 2, 1],\n",
        "    'Vanilla': [2, 2, 1, 2, 2, 1, 1, 2, 2, 1],\n",
        "}\n",
        "\n",
        "df = pd.DataFrame(data)\n",
        "\n",
        "# Kategorik verileri LabelEncoder ile encode ediyorum\n",
        "label_encoder = LabelEncoder()\n",
        "df['Type'] = label_encoder.fit_transform(df['Type'])\n",
        "\n",
        "# Veri setini özellikler ve etiketler olarak ayırdım\n",
        "X = df.drop('Type', axis=1)\n",
        "y = df['Type']\n",
        "\n",
        "# Veri setini eğitim ve test setlerine ayırdım\n",
        "X_train, X_test, y_train, y_test = train_test_split(X, y, test_size=0.2, random_state=42)\n",
        "\n",
        "# Gini Karar Ağacı modelini oluşturdum\n",
        "dt_classifier = DecisionTreeClassifier(random_state=42)\n",
        "dt_classifier.fit(X_train, y_train)\n",
        "\n",
        "# Test seti üzerinde tahmin yaptım\n",
        "y_pred = dt_classifier.predict(X_test)\n",
        "\n",
        "# Karmaşıklık matrisini oluşturdum\n",
        "conf_matrix = confusion_matrix(y_test, y_pred)\n",
        "\n",
        "# Performans ölçümlerini hesapladım\n",
        "report = classification_report(y_test, y_pred, target_names=label_encoder.classes_, zero_division=1)\n",
        "\n",
        "# Doğru Bilme (Accuracy), F1 score, duyarlılık (Recall), hassasiyet (Precision) bilgilerini ekrana yazdırdım\n",
        "accuracy = accuracy_score(y_test, y_pred)\n",
        "f1 = f1_score(y_test, y_pred, average='weighted')\n",
        "recall = recall_score(y_test, y_pred, average='weighted')\n",
        "precision = precision_score(y_test, y_pred, average='weighted')\n",
        "\n",
        "print(\"Confusion Matrix:\")\n",
        "print(conf_matrix)\n",
        "print(\"\\nClassification Report:\")\n",
        "print(report)\n",
        "print(\"\\nAccuracy:\", accuracy)\n",
        "print(\"F1 Score:\", f1)\n",
        "print(\"Recall (Duyarlılık):\", recall)\n",
        "print(\"Precision (Hassasiyet):\", precision)"
      ],
      "metadata": {
        "colab": {
          "base_uri": "https://localhost:8080/"
        },
        "id": "pFs8tuMvkUS_",
        "outputId": "ee81a051-4d7a-4c04-bdcf-772e7b20ca5b"
      },
      "execution_count": null,
      "outputs": [
        {
          "output_type": "stream",
          "name": "stdout",
          "text": [
            "Confusion Matrix:\n",
            "[[1 0]\n",
            " [1 0]]\n",
            "\n",
            "Classification Report:\n",
            "              precision    recall  f1-score   support\n",
            "\n",
            "     Cupcake       0.50      1.00      0.67         1\n",
            "      Muffin       1.00      0.00      0.00         1\n",
            "\n",
            "    accuracy                           0.50         2\n",
            "   macro avg       0.75      0.50      0.33         2\n",
            "weighted avg       0.75      0.50      0.33         2\n",
            "\n",
            "\n",
            "Accuracy: 0.5\n",
            "F1 Score: 0.3333333333333333\n",
            "Recall (Duyarlılık): 0.5\n",
            "Precision (Hassasiyet): 0.25\n"
          ]
        },
        {
          "output_type": "stream",
          "name": "stderr",
          "text": [
            "/usr/local/lib/python3.10/dist-packages/sklearn/metrics/_classification.py:1344: UndefinedMetricWarning: Precision is ill-defined and being set to 0.0 in labels with no predicted samples. Use `zero_division` parameter to control this behavior.\n",
            "  _warn_prf(average, modifier, msg_start, len(result))\n"
          ]
        }
      ]
    }
  ]
}